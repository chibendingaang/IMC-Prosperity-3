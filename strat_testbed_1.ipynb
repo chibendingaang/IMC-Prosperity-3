{
 "cells": [
  {
   "cell_type": "code",
   "execution_count": 2,
   "metadata": {},
   "outputs": [
    {
     "ename": "FileNotFoundError",
     "evalue": "[Errno 2] No such file or directory: 'Picnic_basket1_history.npy'",
     "output_type": "error",
     "traceback": [
      "\u001b[0;31m---------------------------------------------------------------------------\u001b[0m",
      "\u001b[0;31mFileNotFoundError\u001b[0m                         Traceback (most recent call last)",
      "\u001b[1;32m/Users/nisargq/Quant_Fin/IMC_Prosperity/strat_testbed_1.ipynb Cell 1\u001b[0m line \u001b[0;36m7\n\u001b[1;32m      <a href='vscode-notebook-cell:/Users/nisargq/Quant_Fin/IMC_Prosperity/strat_testbed_1.ipynb#W0sZmlsZQ%3D%3D?line=3'>4</a>\u001b[0m \u001b[39mimport\u001b[39;00m \u001b[39mmath\u001b[39;00m\n\u001b[1;32m      <a href='vscode-notebook-cell:/Users/nisargq/Quant_Fin/IMC_Prosperity/strat_testbed_1.ipynb#W0sZmlsZQ%3D%3D?line=5'>6</a>\u001b[0m \u001b[39m# Load the dataset\u001b[39;00m\n\u001b[0;32m----> <a href='vscode-notebook-cell:/Users/nisargq/Quant_Fin/IMC_Prosperity/strat_testbed_1.ipynb#W0sZmlsZQ%3D%3D?line=6'>7</a>\u001b[0m data \u001b[39m=\u001b[39m np\u001b[39m.\u001b[39;49mload(\u001b[39m\"\u001b[39;49m\u001b[39mPicnic_basket1_history.npy\u001b[39;49m\u001b[39m\"\u001b[39;49m)\n\u001b[1;32m      <a href='vscode-notebook-cell:/Users/nisargq/Quant_Fin/IMC_Prosperity/strat_testbed_1.ipynb#W0sZmlsZQ%3D%3D?line=7'>8</a>\u001b[0m price_series \u001b[39m=\u001b[39m pd\u001b[39m.\u001b[39mSeries(data[:, \u001b[39m0\u001b[39m])\n\u001b[1;32m     <a href='vscode-notebook-cell:/Users/nisargq/Quant_Fin/IMC_Prosperity/strat_testbed_1.ipynb#W0sZmlsZQ%3D%3D?line=9'>10</a>\u001b[0m \u001b[39m# First-order differencing to achieve stationarity\u001b[39;00m\n",
      "File \u001b[0;32m~/Library/Python/3.9/lib/python/site-packages/numpy/lib/npyio.py:427\u001b[0m, in \u001b[0;36mload\u001b[0;34m(file, mmap_mode, allow_pickle, fix_imports, encoding, max_header_size)\u001b[0m\n\u001b[1;32m    425\u001b[0m     own_fid \u001b[39m=\u001b[39m \u001b[39mFalse\u001b[39;00m\n\u001b[1;32m    426\u001b[0m \u001b[39melse\u001b[39;00m:\n\u001b[0;32m--> 427\u001b[0m     fid \u001b[39m=\u001b[39m stack\u001b[39m.\u001b[39menter_context(\u001b[39mopen\u001b[39;49m(os_fspath(file), \u001b[39m\"\u001b[39;49m\u001b[39mrb\u001b[39;49m\u001b[39m\"\u001b[39;49m))\n\u001b[1;32m    428\u001b[0m     own_fid \u001b[39m=\u001b[39m \u001b[39mTrue\u001b[39;00m\n\u001b[1;32m    430\u001b[0m \u001b[39m# Code to distinguish from NumPy binary files and pickles.\u001b[39;00m\n",
      "\u001b[0;31mFileNotFoundError\u001b[0m: [Errno 2] No such file or directory: 'Picnic_basket1_history.npy'"
     ]
    }
   ],
   "source": [
    "import numpy as np\n",
    "import pandas as pd\n",
    "import matplotlib.pyplot as plt\n",
    "import math\n",
    "\n",
    "# Load the dataset\n",
    "data = np.load(\"Picnic_basket1_history.npy\")\n",
    "price_series = pd.Series(data[:, 0])\n",
    "\n",
    "# First-order differencing to achieve stationarity\n",
    "price_diff = price_series.diff().dropna().reset_index(drop=True)\n",
    "\n",
    "# Manual ACF computation\n",
    "def autocorrelation(series: np.ndarray, lag: int) -> float:\n",
    "    n = len(series)\n",
    "    mean = np.mean(series)\n",
    "    num = sum((series[i] - mean) * (series[i - lag] - mean) for i in range(lag, n))\n",
    "    den = sum((x - mean)**2 for x in series)\n",
    "    return num / den if den != 0 else 0\n",
    "\n",
    "def compute_acf(series: pd.Series, max_lag: int = 40):\n",
    "    series = series.dropna().values\n",
    "    return [autocorrelation(series, lag) for lag in range(1, max_lag + 1)]\n",
    "\n",
    "# Compute ACF\n",
    "acf_vals = compute_acf(price_diff, max_lag=40)\n",
    "\n",
    "# Plot\n",
    "conf_interval = 1.96 / math.sqrt(len(price_diff))  # 95% confidence interval"
   ]
  },
  {
   "cell_type": "code",
   "execution_count": null,
   "metadata": {},
   "outputs": [],
   "source": [
    "\n",
    "plt.figure(figsize=(12, 5))\n",
    "lags = np.arange(1, 41)\n",
    "plt.stem(lags, acf_vals, use_line_collection=True)\n",
    "plt.axhline(y=0, linestyle='--', color='black')\n",
    "plt.axhline(y=conf_interval, linestyle='--', color='red', linewidth=1)\n",
    "plt.axhline(y=-conf_interval, linestyle='--', color='red', linewidth=1)\n",
    "plt.title(\"Autocorrelation (ACF) of Differenced Series\")\n",
    "plt.xlabel(\"Lag\")\n",
    "plt.ylabel(\"ACF\")\n",
    "plt.grid(True)\n",
    "plt.show()"
   ]
  }
 ],
 "metadata": {
  "kernelspec": {
   "display_name": "Python 3",
   "language": "python",
   "name": "python3"
  },
  "language_info": {
   "codemirror_mode": {
    "name": "ipython",
    "version": 3
   },
   "file_extension": ".py",
   "mimetype": "text/x-python",
   "name": "python",
   "nbconvert_exporter": "python",
   "pygments_lexer": "ipython3",
   "version": "3.9.6"
  }
 },
 "nbformat": 4,
 "nbformat_minor": 2
}
